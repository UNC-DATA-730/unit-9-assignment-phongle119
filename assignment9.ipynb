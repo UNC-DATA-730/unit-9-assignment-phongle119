{
 "cells": [
  {
   "cell_type": "markdown",
   "id": "fe67a362-1670-4664-8c82-116e35bda7bb",
   "metadata": {},
   "source": [
    "**Relevant reading for this problem set**:\n",
    "<a href=\"https://moderndive.com/9-hypothesis-testing.html\"\n",
    "target=\"_blank\">ModernDive Chapter 9: Hypothesis Testing</a>."
   ]
  },
  {
   "cell_type": "markdown",
   "id": "a2c81b92-efa7-4f83-a059-a0081900ee4e",
   "metadata": {},
   "source": [
    "First load the necessary packages:"
   ]
  },
  {
   "cell_type": "code",
   "execution_count": 104,
   "id": "ea87212e-636e-469a-bb9a-717ff7ae825e",
   "metadata": {
    "vscode": {
     "languageId": "r"
    }
   },
   "outputs": [],
   "source": [
    "library('tidyverse')\n",
    "library('infer')"
   ]
  },
  {
   "cell_type": "markdown",
   "id": "7f622954-509a-4009-961b-417a61f5b2de",
   "metadata": {},
   "source": [
    "For this Problem Set you will work with some grade-point-average (GPA)\n",
    "data for college freshman. The following will read in the data:"
   ]
  },
  {
   "cell_type": "code",
   "execution_count": 105,
   "id": "6c1ee55a-cbbd-4f35-a0df-55a6bf8a71ef",
   "metadata": {
    "vscode": {
     "languageId": "r"
    }
   },
   "outputs": [
    {
     "name": "stderr",
     "output_type": "stream",
     "text": [
      "\u001b[1m\u001b[22mNew names:\n",
      "\u001b[36m•\u001b[39m `` -> `...1`\n"
     ]
    },
    {
     "name": "stdout",
     "output_type": "stream",
     "text": [
      "Rows: 1,000\n",
      "Columns: 6\n",
      "$ sex        \u001b[3m\u001b[90m<chr>\u001b[39m\u001b[23m \"Male\"\u001b[90m, \u001b[39m\"Female\"\u001b[90m, \u001b[39m\"Female\"\u001b[90m, \u001b[39m\"Male\"\u001b[90m, \u001b[39m\"Male\"\u001b[90m, \u001b[39m\"Female\"\u001b[90m, \u001b[39m\"Male…\n",
      "$ sat_verbal \u001b[3m\u001b[90m<dbl>\u001b[39m\u001b[23m 65\u001b[90m, \u001b[39m58\u001b[90m, \u001b[39m56\u001b[90m, \u001b[39m42\u001b[90m, \u001b[39m55\u001b[90m, \u001b[39m55\u001b[90m, \u001b[39m57\u001b[90m, \u001b[39m53\u001b[90m, \u001b[39m67\u001b[90m, \u001b[39m41\u001b[90m, \u001b[39m58\u001b[90m, \u001b[39m45\u001b[90m, \u001b[39m43\u001b[90m, \u001b[39m50\u001b[90m, \u001b[39m54\u001b[90m,\u001b[39m…\n",
      "$ sat_math   \u001b[3m\u001b[90m<dbl>\u001b[39m\u001b[23m 62\u001b[90m, \u001b[39m64\u001b[90m, \u001b[39m60\u001b[90m, \u001b[39m53\u001b[90m, \u001b[39m52\u001b[90m, \u001b[39m56\u001b[90m, \u001b[39m65\u001b[90m, \u001b[39m62\u001b[90m, \u001b[39m77\u001b[90m, \u001b[39m44\u001b[90m, \u001b[39m70\u001b[90m, \u001b[39m57\u001b[90m, \u001b[39m45\u001b[90m, \u001b[39m58\u001b[90m, \u001b[39m66\u001b[90m,\u001b[39m…\n",
      "$ sat_total  \u001b[3m\u001b[90m<dbl>\u001b[39m\u001b[23m 127\u001b[90m, \u001b[39m122\u001b[90m, \u001b[39m116\u001b[90m, \u001b[39m95\u001b[90m, \u001b[39m107\u001b[90m, \u001b[39m111\u001b[90m, \u001b[39m122\u001b[90m, \u001b[39m115\u001b[90m, \u001b[39m144\u001b[90m, \u001b[39m85\u001b[90m, \u001b[39m128\u001b[90m, \u001b[39m102\u001b[90m, \u001b[39m8…\n",
      "$ gpa_hs     \u001b[3m\u001b[90m<chr>\u001b[39m\u001b[23m \"high\"\u001b[90m, \u001b[39m\"high\"\u001b[90m, \u001b[39m\"high\"\u001b[90m, \u001b[39m\"high\"\u001b[90m, \u001b[39m\"high\"\u001b[90m, \u001b[39m\"high\"\u001b[90m, \u001b[39m\"low\"\u001b[90m, \u001b[39m\"hig…\n",
      "$ gpa_fy     \u001b[3m\u001b[90m<dbl>\u001b[39m\u001b[23m 3.18\u001b[90m, \u001b[39m3.33\u001b[90m, \u001b[39m3.25\u001b[90m, \u001b[39m2.42\u001b[90m, \u001b[39m2.63\u001b[90m, \u001b[39m2.91\u001b[90m, \u001b[39m2.83\u001b[90m, \u001b[39m2.51\u001b[90m, \u001b[39m3.82\u001b[90m, \u001b[39m2.54\u001b[90m,\u001b[39m…\n"
     ]
    }
   ],
   "source": [
    "sat_gpa = read_csv(\"https://rudeboybert.github.io/SDS220/static/PS/sat_gpa.csv\", col_types = cols(), col_select = c(-1))\n",
    "\n",
    "sat_gpa |> glimpse()"
   ]
  },
  {
   "cell_type": "markdown",
   "id": "9225e401-d91a-4271-b5bf-e665b628c731",
   "metadata": {},
   "source": [
    "Each row or case in this data frame is a student. The data includes:\n",
    "\n",
    "-   the (binary) gender of each student\n",
    "-   the math, verbal and total SAT scores for each student\n",
    "-   the GPA range of each student in high school (categorized as “low”\n",
    "    or “high”)\n",
    "-   the GPA of each student their first year of college on a numeric\n",
    "    scale.\n",
    "\n",
    "We will use hypothesis testing to answer the following questions:\n",
    "\n",
    "1.  Is there a difference in male and female freshman GPAs?\n",
    "2.  Is there a difference in total SAT score for students with a “low”\n",
    "    and “high” high-school GPA?\n",
    "\n",
    "Note, if you get stuck as you are working through this, it will be\n",
    "helpful to review Chapter 9 in ModernDive."
   ]
  },
  {
   "cell_type": "markdown",
   "id": "9f92af32-b0cf-40ab-b24a-3de2b1ac2ea4",
   "metadata": {},
   "source": [
    "## Question 1: Gender differences in first-year GPA?\n",
    "\n",
    "For this question, let’s use a pre-determined $\\alpha$\n",
    "significance-level of 0.05."
   ]
  },
  {
   "cell_type": "markdown",
   "id": "72a83931-3db6-4889-a7bb-22294b6be924",
   "metadata": {},
   "source": [
    "## Q1.a)\n",
    "\n",
    "Calculate the mean GPA score for each gender, using the `group_by` and\n",
    "`summarize` commands from the `dplyr` package."
   ]
  },
  {
   "cell_type": "code",
   "execution_count": 106,
   "id": "bb4f463d-0010-4ae6-b40c-69be81c698e8",
   "metadata": {
    "vscode": {
     "languageId": "r"
    }
   },
   "outputs": [
    {
     "data": {
      "text/html": [
       "<table class=\"dataframe\">\n",
       "<caption>A tibble: 2 × 2</caption>\n",
       "<thead>\n",
       "\t<tr><th scope=col>sex</th><th scope=col>mean_GPA</th></tr>\n",
       "\t<tr><th scope=col>&lt;chr&gt;</th><th scope=col>&lt;dbl&gt;</th></tr>\n",
       "</thead>\n",
       "<tbody>\n",
       "\t<tr><td>Female</td><td>2.544587</td></tr>\n",
       "\t<tr><td>Male  </td><td>2.396066</td></tr>\n",
       "</tbody>\n",
       "</table>\n"
      ],
      "text/latex": [
       "A tibble: 2 × 2\n",
       "\\begin{tabular}{ll}\n",
       " sex & mean\\_GPA\\\\\n",
       " <chr> & <dbl>\\\\\n",
       "\\hline\n",
       "\t Female & 2.544587\\\\\n",
       "\t Male   & 2.396066\\\\\n",
       "\\end{tabular}\n"
      ],
      "text/markdown": [
       "\n",
       "A tibble: 2 × 2\n",
       "\n",
       "| sex &lt;chr&gt; | mean_GPA &lt;dbl&gt; |\n",
       "|---|---|\n",
       "| Female | 2.544587 |\n",
       "| Male   | 2.396066 |\n",
       "\n"
      ],
      "text/plain": [
       "  sex    mean_GPA\n",
       "1 Female 2.544587\n",
       "2 Male   2.396066"
      ]
     },
     "metadata": {},
     "output_type": "display_data"
    },
    {
     "data": {
      "text/html": [
       "0.148521"
      ],
      "text/latex": [
       "0.148521"
      ],
      "text/markdown": [
       "0.148521"
      ],
      "text/plain": [
       "[1] 0.148521"
      ]
     },
     "metadata": {},
     "output_type": "display_data"
    },
    {
     "data": {
      "text/html": [
       "0.03713025"
      ],
      "text/latex": [
       "0.03713025"
      ],
      "text/markdown": [
       "0.03713025"
      ],
      "text/plain": [
       "[1] 0.03713025"
      ]
     },
     "metadata": {},
     "output_type": "display_data"
    }
   ],
   "source": [
    "\n",
    "mean_gpa = sat_gpa |>group_by(sex)|>\n",
    "    summarise(mean_GPA = mean(gpa_fy))\n",
    "    mean_gpa\n",
    " 2.544587 - 2.396066\n",
    "0.148521/4"
   ]
  },
  {
   "cell_type": "markdown",
   "id": "ee8939f6-1b00-45ee-9e83-9c47f63d138b",
   "metadata": {},
   "source": [
    "**Questions**:\n",
    "\n",
    "1.  What is the difference in sample mean GPA’s?\n",
    "2.  Make a guess: is this difference statistically significant?\n",
    "\n",
    "**Answers**:\n",
    "\n",
    "1.  0.148521\n",
    "2.  It's about 3.7% of highest grade.  So I guess it is statistically significant."
   ]
  },
  {
   "cell_type": "markdown",
   "id": "13e9ee4c-704e-4da6-a3f2-7e6cc19b3912",
   "metadata": {},
   "source": [
    "## Q1.b)\n",
    "\n",
    "Generate a data visualization that displays the GPAs of the two groups.\n",
    "Be sure to include a title and label your axes."
   ]
  },
  {
   "cell_type": "code",
   "execution_count": 107,
   "id": "dcb660ab-150b-449b-a25d-29e96010c14d",
   "metadata": {
    "vscode": {
     "languageId": "r"
    }
   },
   "outputs": [
    {
     "data": {
      "image/png": "[encoded data removed]",
      "text/plain": [
       "plot without title"
      ]
     },
     "metadata": {
      "image/png": {
       "height": 420,
       "width": 420
      }
     },
     "output_type": "display_data"
    }
   ],
   "source": [
    "\n",
    "\n",
    "mean_gpa|> ggplot(aes(x = sex , y = mean_GPA))+\n",
    "    geom_col(fill = 'lightblue') +\n",
    "    labs(title ='Bar plot of mean GPA vs sex',\n",
    "        x = 'Sex',\n",
    "        y = \"Mean GPA\")+\n",
    "    theme_classic()\n"
   ]
  },
  {
   "cell_type": "markdown",
   "id": "f3a0cc05-c036-4fe3-8c7d-a5dee3db4ec7",
   "metadata": {},
   "source": [
    "## Stating a null hypothesis\n",
    "\n",
    "We will now test the null hypothesis that there’s no difference in\n",
    "population mean GPA between the genders at the population level. We can\n",
    "write this out in mathematical notation\n",
    "\n",
    "$$\n",
    "\\begin{aligned}\n",
    "H_0 &: \\mu_{\\text{female}} = \\mu_{\\text{male}} \\\\\n",
    "\\text{vs. } H_A &: \\mu_{\\text{female}} \\neq \\mu_{\\text{male}}\n",
    "\\end{aligned}\n",
    "$$\n",
    "\n",
    "or expressed differently, that the difference is 0 or not:\n",
    "\n",
    "$$\\begin{aligned} H_0:&\\mu_{female} - \\mu_{male} = 0 \\\\\\ \\text{vs. }H_A:& \\mu_{female} - \\mu_{male} \\neq 0 \\end{aligned}$$\n",
    "\n",
    "## Testing the hypothesis\n",
    "\n",
    "Here’s how we use the `infer` package to conduct this hypothesis test:\n",
    "\n",
    "### Step 1: Calculate the observed difference\n",
    "\n",
    "Note that the order we choose does not matter here (female then\n",
    "male)…but since we used `order = c(\"Female\", \"Male\")` here, we should do\n",
    "the same in subsequent calculations!"
   ]
  },
  {
   "cell_type": "code",
   "execution_count": 108,
   "id": "425a7d37-ae9a-43f0-8fff-326ba0d32b91",
   "metadata": {
    "vscode": {
     "languageId": "r"
    }
   },
   "outputs": [
    {
     "data": {
      "text/html": [
       "<table class=\"dataframe\">\n",
       "<caption>A infer: 1 × 1</caption>\n",
       "<thead>\n",
       "\t<tr><th scope=col>stat</th></tr>\n",
       "\t<tr><th scope=col>&lt;dbl&gt;</th></tr>\n",
       "</thead>\n",
       "<tbody>\n",
       "\t<tr><td>0.1485209</td></tr>\n",
       "</tbody>\n",
       "</table>\n"
      ],
      "text/latex": [
       "A infer: 1 × 1\n",
       "\\begin{tabular}{l}\n",
       " stat\\\\\n",
       " <dbl>\\\\\n",
       "\\hline\n",
       "\t 0.1485209\\\\\n",
       "\\end{tabular}\n"
      ],
      "text/markdown": [
       "\n",
       "A infer: 1 × 1\n",
       "\n",
       "| stat &lt;dbl&gt; |\n",
       "|---|\n",
       "| 0.1485209 |\n",
       "\n"
      ],
      "text/plain": [
       "  stat     \n",
       "1 0.1485209"
      ]
     },
     "metadata": {},
     "output_type": "display_data"
    }
   ],
   "source": [
    "obs_diff_gpa_sex = sat_gpa |>\n",
    "  specify(gpa_fy ~ sex) |>\n",
    "  calculate(stat = \"diff in means\", order = c(\"Female\", \"Male\"))\n",
    "\n",
    "obs_diff_gpa_sex"
   ]
  },
  {
   "cell_type": "markdown",
   "id": "d7ac9575-adf1-416f-9106-b44e784cf6c4",
   "metadata": {},
   "source": [
    "Note that this is the difference in the group means we calculated\n",
    "earlier!"
   ]
  },
  {
   "cell_type": "code",
   "execution_count": 109,
   "id": "84bc94e1-5a73-4184-9e9e-2aeb876d491e",
   "metadata": {
    "vscode": {
     "languageId": "r"
    }
   },
   "outputs": [
    {
     "data": {
      "text/html": [
       "0.148521"
      ],
      "text/latex": [
       "0.148521"
      ],
      "text/markdown": [
       "0.148521"
      ],
      "text/plain": [
       "[1] 0.148521"
      ]
     },
     "metadata": {},
     "output_type": "display_data"
    }
   ],
   "source": [
    "2.544587 - 2.396066\n"
   ]
  },
  {
   "cell_type": "markdown",
   "id": "dba4fcc1-4a9b-47ce-a215-a45870f3eb29",
   "metadata": {},
   "source": [
    "### Step 2. Generate the null distribution of $\\delta$\n",
    "\n",
    "This step involves generating simulated values *as if* we lived in a\n",
    "world where there’s no difference between the two groups. Going back to\n",
    "the idea of permutation, and tactile sampling, this is akin to shuffling\n",
    "the GPA scores between male and female labels (i.e. removing the\n",
    "structure to the data) just as we could have done with index cards."
   ]
  },
  {
   "cell_type": "code",
   "execution_count": 110,
   "id": "019aca26-2e52-4b23-bd74-b08ffc3390b0",
   "metadata": {
    "vscode": {
     "languageId": "r"
    }
   },
   "outputs": [
    {
     "data": {
      "text/html": [
       "<table class=\"dataframe\">\n",
       "<caption>A grouped_df: 6 × 3</caption>\n",
       "<thead>\n",
       "\t<tr><th scope=col>gpa_fy</th><th scope=col>sex</th><th scope=col>replicate</th></tr>\n",
       "\t<tr><th scope=col>&lt;dbl&gt;</th><th scope=col>&lt;fct&gt;</th><th scope=col>&lt;int&gt;</th></tr>\n",
       "</thead>\n",
       "<tbody>\n",
       "\t<tr><td>2.95</td><td>Male  </td><td>1</td></tr>\n",
       "\t<tr><td>2.27</td><td>Female</td><td>1</td></tr>\n",
       "\t<tr><td>3.16</td><td>Female</td><td>1</td></tr>\n",
       "\t<tr><td>1.37</td><td>Male  </td><td>1</td></tr>\n",
       "\t<tr><td>2.12</td><td>Male  </td><td>1</td></tr>\n",
       "\t<tr><td>1.98</td><td>Female</td><td>1</td></tr>\n",
       "</tbody>\n",
       "</table>\n"
      ],
      "text/latex": [
       "A grouped\\_df: 6 × 3\n",
       "\\begin{tabular}{lll}\n",
       " gpa\\_fy & sex & replicate\\\\\n",
       " <dbl> & <fct> & <int>\\\\\n",
       "\\hline\n",
       "\t 2.95 & Male   & 1\\\\\n",
       "\t 2.27 & Female & 1\\\\\n",
       "\t 3.16 & Female & 1\\\\\n",
       "\t 1.37 & Male   & 1\\\\\n",
       "\t 2.12 & Male   & 1\\\\\n",
       "\t 1.98 & Female & 1\\\\\n",
       "\\end{tabular}\n"
      ],
      "text/markdown": [
       "\n",
       "A grouped_df: 6 × 3\n",
       "\n",
       "| gpa_fy &lt;dbl&gt; | sex &lt;fct&gt; | replicate &lt;int&gt; |\n",
       "|---|---|---|\n",
       "| 2.95 | Male   | 1 |\n",
       "| 2.27 | Female | 1 |\n",
       "| 3.16 | Female | 1 |\n",
       "| 1.37 | Male   | 1 |\n",
       "| 2.12 | Male   | 1 |\n",
       "| 1.98 | Female | 1 |\n",
       "\n"
      ],
      "text/plain": [
       "  gpa_fy sex    replicate\n",
       "1 2.95   Male   1        \n",
       "2 2.27   Female 1        \n",
       "3 3.16   Female 1        \n",
       "4 1.37   Male   1        \n",
       "5 2.12   Male   1        \n",
       "6 1.98   Female 1        "
      ]
     },
     "metadata": {},
     "output_type": "display_data"
    },
    {
     "data": {
      "text/html": [
       "<table class=\"dataframe\">\n",
       "<caption>A tibble: 1 × 1</caption>\n",
       "<thead>\n",
       "\t<tr><th scope=col>n</th></tr>\n",
       "\t<tr><th scope=col>&lt;int&gt;</th></tr>\n",
       "</thead>\n",
       "<tbody>\n",
       "\t<tr><td>1000</td></tr>\n",
       "</tbody>\n",
       "</table>\n"
      ],
      "text/latex": [
       "A tibble: 1 × 1\n",
       "\\begin{tabular}{l}\n",
       " n\\\\\n",
       " <int>\\\\\n",
       "\\hline\n",
       "\t 1000\\\\\n",
       "\\end{tabular}\n"
      ],
      "text/markdown": [
       "\n",
       "A tibble: 1 × 1\n",
       "\n",
       "| n &lt;int&gt; |\n",
       "|---|\n",
       "| 1000 |\n",
       "\n"
      ],
      "text/plain": [
       "  n   \n",
       "1 1000"
      ]
     },
     "metadata": {},
     "output_type": "display_data"
    },
    {
     "data": {
      "text/plain": [
       "     gpa_fy          sex            replicate   \n",
       " Min.   :0.000   Female:2420000   Min.   :   1  \n",
       " 1st Qu.:1.980   Male  :2580000   1st Qu.:1251  \n",
       " Median :2.465                    Median :2500  \n",
       " Mean   :2.468                    Mean   :2500  \n",
       " 3rd Qu.:3.020                    3rd Qu.:3750  \n",
       " Max.   :4.000                    Max.   :5000  "
      ]
     },
     "metadata": {},
     "output_type": "display_data"
    }
   ],
   "source": [
    "gpas_in_null_world = sat_gpa |> \n",
    "  specify(gpa_fy ~ sex) |> \n",
    "  hypothesize(null = \"independence\") |>\n",
    "  generate(reps = 5000, type = 'permute')\n",
    "\n",
    "gpas_in_null_world |> head()\n",
    "sat_gpa|>count()\n",
    "summary(gpas_in_null_world)"
   ]
  },
  {
   "cell_type": "markdown",
   "id": "40981f4a-37a6-40fe-94c0-fbf746219313",
   "metadata": {},
   "source": [
    "## Q1.c)\n",
    "\n",
    "**Question**:\n",
    "\n",
    "1.  What was the size of the “shuffled” (permuted) sample in each run?\n",
    "2.  How many times did we “shuffle” (permute) the sample? How many rows\n",
    "    are in the `gpas_in_null_world` data frame?\n",
    "\n",
    "**Answer:**\n",
    "\n",
    "1.  It would be the same size as the original sat_gpa data which is 1000\n",
    "2.  We shuffle 5000 times.  With total row equal 5000x1000=5000000 rows"
   ]
  },
  {
   "cell_type": "markdown",
   "id": "b2f46fdd-2fe3-4e32-a737-1791484fe11e",
   "metadata": {},
   "source": [
    "### Step 3. Calculate the differences between male and females under the null\n",
    "\n",
    "The following calculates the differences in mean GPA for males and\n",
    "females for “shuffled” (permuted) data."
   ]
  },
  {
   "cell_type": "code",
   "execution_count": 111,
   "id": "81db6467-d867-488f-84de-2c6f8c2f3ebc",
   "metadata": {
    "vscode": {
     "languageId": "r"
    }
   },
   "outputs": [
    {
     "data": {
      "text/html": [
       "<table class=\"dataframe\">\n",
       "<caption>A infer: 6 × 2</caption>\n",
       "<thead>\n",
       "\t<tr><th scope=col>replicate</th><th scope=col>stat</th></tr>\n",
       "\t<tr><th scope=col>&lt;int&gt;</th><th scope=col>&lt;dbl&gt;</th></tr>\n",
       "</thead>\n",
       "<tbody>\n",
       "\t<tr><td>1</td><td> 0.01450365</td></tr>\n",
       "\t<tr><td>2</td><td>-0.03887100</td></tr>\n",
       "\t<tr><td>3</td><td>-0.04379605</td></tr>\n",
       "\t<tr><td>4</td><td> 0.02219152</td></tr>\n",
       "\t<tr><td>5</td><td> 0.04049026</td></tr>\n",
       "\t<tr><td>6</td><td> 0.02423362</td></tr>\n",
       "</tbody>\n",
       "</table>\n"
      ],
      "text/latex": [
       "A infer: 6 × 2\n",
       "\\begin{tabular}{ll}\n",
       " replicate & stat\\\\\n",
       " <int> & <dbl>\\\\\n",
       "\\hline\n",
       "\t 1 &  0.01450365\\\\\n",
       "\t 2 & -0.03887100\\\\\n",
       "\t 3 & -0.04379605\\\\\n",
       "\t 4 &  0.02219152\\\\\n",
       "\t 5 &  0.04049026\\\\\n",
       "\t 6 &  0.02423362\\\\\n",
       "\\end{tabular}\n"
      ],
      "text/markdown": [
       "\n",
       "A infer: 6 × 2\n",
       "\n",
       "| replicate &lt;int&gt; | stat &lt;dbl&gt; |\n",
       "|---|---|\n",
       "| 1 |  0.01450365 |\n",
       "| 2 | -0.03887100 |\n",
       "| 3 | -0.04379605 |\n",
       "| 4 |  0.02219152 |\n",
       "| 5 |  0.04049026 |\n",
       "| 6 |  0.02423362 |\n",
       "\n"
      ],
      "text/plain": [
       "  replicate stat       \n",
       "1 1          0.01450365\n",
       "2 2         -0.03887100\n",
       "3 3         -0.04379605\n",
       "4 4          0.02219152\n",
       "5 5          0.04049026\n",
       "6 6          0.02423362"
      ]
     },
     "metadata": {},
     "output_type": "display_data"
    },
    {
     "data": {
      "text/plain": [
       "   replicate         stat           \n",
       " Min.   :   1   Min.   :-0.1766521  \n",
       " 1st Qu.:1251   1st Qu.:-0.0314234  \n",
       " Median :2500   Median : 0.0002290  \n",
       " Mean   :2500   Mean   : 0.0001478  \n",
       " 3rd Qu.:3750   3rd Qu.: 0.0319315  \n",
       " Max.   :5000   Max.   : 0.1515640  "
      ]
     },
     "metadata": {},
     "output_type": "display_data"
    }
   ],
   "source": [
    "gpa_diff_under_null = gpas_in_null_world |>\n",
    "  calculate(stat = \"diff in means\", order = c(\"Female\", \"Male\")) \n",
    "\n",
    "gpa_diff_under_null |> \n",
    "  head()\n",
    "summary(gpa_diff_under_null)"
   ]
  },
  {
   "cell_type": "markdown",
   "id": "a518f2cc-360a-47b7-845b-d18bc5c92b59",
   "metadata": {},
   "source": [
    "## Q1.d)\n",
    "\n",
    "**Question**:\n",
    "\n",
    "1.  How many rows are in this data frame? Why?\n",
    "\n",
    "**Answer:**\n",
    "\n",
    "1.  There would be 5000 rows one for each replicate.  Because we calculate the diff in mean for each replicate."
   ]
  },
  {
   "cell_type": "markdown",
   "id": "6017b851-4bc1-4dda-a78d-cf93639a6b24",
   "metadata": {},
   "source": [
    "### Step 4. Visualize how the observed difference compares to the null distribution of $\\delta$\n",
    "\n",
    "The following plots the $\\delta$ values we calculated for each of the\n",
    "different “shuffled” replicates. This is the null distribution of\n",
    "$\\delta$. The red line shows the observed difference between male and\n",
    "female scores in the data (-0.1485209) from step 1."
   ]
  },
  {
   "cell_type": "code",
   "execution_count": 112,
   "id": "2a3686c6-4d45-44e4-88eb-c7d14da345c8",
   "metadata": {
    "vscode": {
     "languageId": "r"
    }
   },
   "outputs": [
    {
     "data": {
      "image/png": "[encoded data removed]",
      "text/plain": [
       "plot without title"
      ]
     },
     "metadata": {
      "image/png": {
       "height": 420,
       "width": 420
      }
     },
     "output_type": "display_data"
    }
   ],
   "source": [
    "visualize(gpa_diff_under_null) +\n",
    "  shade_p_value(obs_stat = obs_diff_gpa_sex, direction = \"both\") +\n",
    "  labs(x = \"Difference in mean GPA for males and females\", y = \"Count\",\n",
    "       title = \"Null distribution of differences in male and female GPAs\",\n",
    "       subtitle = \"Actual difference observed in the data is marked in red\"\n",
    "       )"
   ]
  },
  {
   "cell_type": "markdown",
   "id": "374aae7b-5600-4186-a6e0-f6cd431d88ab",
   "metadata": {},
   "source": [
    "**Note that zero is the center of this null distribution.** The null\n",
    "hypothesis is that there is no difference between males and females in\n",
    "GPA score. In the permutations, zero was the most common difference,\n",
    "because observed GPA values were re-assigned to males and females **at\n",
    "random**. Differences as large as \\~ 0.1 and -0.1 occurred, but much\n",
    "less frequently, because they are just not as likely when structure is\n",
    "removed from the data.\n",
    "\n",
    "### Step 5: Calculate a p-value"
   ]
  },
  {
   "cell_type": "code",
   "execution_count": 113,
   "id": "4145e57b-d098-46ba-96b5-3cb2134247b2",
   "metadata": {
    "vscode": {
     "languageId": "r"
    }
   },
   "outputs": [
    {
     "data": {
      "text/html": [
       "<table class=\"dataframe\">\n",
       "<caption>A tibble: 1 × 1</caption>\n",
       "<thead>\n",
       "\t<tr><th scope=col>p_value</th></tr>\n",
       "\t<tr><th scope=col>&lt;dbl&gt;</th></tr>\n",
       "</thead>\n",
       "<tbody>\n",
       "\t<tr><td>4e-04</td></tr>\n",
       "</tbody>\n",
       "</table>\n"
      ],
      "text/latex": [
       "A tibble: 1 × 1\n",
       "\\begin{tabular}{l}\n",
       " p\\_value\\\\\n",
       " <dbl>\\\\\n",
       "\\hline\n",
       "\t 4e-04\\\\\n",
       "\\end{tabular}\n"
      ],
      "text/markdown": [
       "\n",
       "A tibble: 1 × 1\n",
       "\n",
       "| p_value &lt;dbl&gt; |\n",
       "|---|\n",
       "| 4e-04 |\n",
       "\n"
      ],
      "text/plain": [
       "  p_value\n",
       "1 4e-04  "
      ]
     },
     "metadata": {},
     "output_type": "display_data"
    },
    {
     "data": {
      "text/html": [
       "<table class=\"dataframe\">\n",
       "<caption>A infer: 1 × 1</caption>\n",
       "<thead>\n",
       "\t<tr><th scope=col>stat</th></tr>\n",
       "\t<tr><th scope=col>&lt;dbl&gt;</th></tr>\n",
       "</thead>\n",
       "<tbody>\n",
       "\t<tr><td>0.1485209</td></tr>\n",
       "</tbody>\n",
       "</table>\n"
      ],
      "text/latex": [
       "A infer: 1 × 1\n",
       "\\begin{tabular}{l}\n",
       " stat\\\\\n",
       " <dbl>\\\\\n",
       "\\hline\n",
       "\t 0.1485209\\\\\n",
       "\\end{tabular}\n"
      ],
      "text/markdown": [
       "\n",
       "A infer: 1 × 1\n",
       "\n",
       "| stat &lt;dbl&gt; |\n",
       "|---|\n",
       "| 0.1485209 |\n",
       "\n"
      ],
      "text/plain": [
       "  stat     \n",
       "1 0.1485209"
      ]
     },
     "metadata": {},
     "output_type": "display_data"
    }
   ],
   "source": [
    "gpa_diff_under_null %>% \n",
    "  get_pvalue(obs_stat = obs_diff_gpa_sex, direction = \"both\") \n",
    "  obs_diff_gpa_sex"
   ]
  },
  {
   "cell_type": "markdown",
   "id": "29a984eb-44a4-42d0-8ab6-64893f85342b",
   "metadata": {},
   "source": [
    "This result indicates that there is a 0.1% chance (very low) chance that\n",
    "we would see a difference of 0.15 in GPA scores between males and\n",
    "females (or a bigger difference) if in fact there was truly no\n",
    "difference between the sexes in GPA scores in the population."
   ]
  },
  {
   "cell_type": "markdown",
   "id": "101373fa-ddee-40ae-8da9-64db35b8c836",
   "metadata": {},
   "source": [
    "## Q1.e)\n",
    "\n",
    "Fill in the blanks below to write up the results & conclusions for this\n",
    "test:\n",
    "\n",
    "The mean GPA scores for females in our sample ($\\bar{x}$ = 2.544587)\n",
    "was greater than that of males ($\\bar{x}$ = 2.396066). This\n",
    "difference **(was)**\\_ statistically significant at\n",
    "$\\alpha = 0.05$, (p = 0.0012). Given this I **(would)** reject the Null hypothesis and conclude that female have\n",
    "higher GPAs than male at the population level."
   ]
  },
  {
   "cell_type": "markdown",
   "id": "1b55bbc1-2399-446f-99e0-5e7e6b86045e",
   "metadata": {},
   "source": [
    "### Step 6: Calculate a confidence interval for the difference\n",
    "\n",
    "The following will allow us to calculate a 95% confidence interval for\n",
    "the difference between mean GPA scores for males and females."
   ]
  },
  {
   "cell_type": "code",
   "execution_count": 114,
   "id": "2bf4102e-ddd6-4c31-bc85-1af89fc9578f",
   "metadata": {
    "vscode": {
     "languageId": "r"
    }
   },
   "outputs": [
    {
     "data": {
      "text/html": [
       "<table class=\"dataframe\">\n",
       "<caption>A tibble: 1 × 2</caption>\n",
       "<thead>\n",
       "\t<tr><th scope=col>lower_ci</th><th scope=col>upper_ci</th></tr>\n",
       "\t<tr><th scope=col>&lt;dbl&gt;</th><th scope=col>&lt;dbl&gt;</th></tr>\n",
       "</thead>\n",
       "<tbody>\n",
       "\t<tr><td>0.05474991</td><td>0.2388094</td></tr>\n",
       "</tbody>\n",
       "</table>\n"
      ],
      "text/latex": [
       "A tibble: 1 × 2\n",
       "\\begin{tabular}{ll}\n",
       " lower\\_ci & upper\\_ci\\\\\n",
       " <dbl> & <dbl>\\\\\n",
       "\\hline\n",
       "\t 0.05474991 & 0.2388094\\\\\n",
       "\\end{tabular}\n"
      ],
      "text/markdown": [
       "\n",
       "A tibble: 1 × 2\n",
       "\n",
       "| lower_ci &lt;dbl&gt; | upper_ci &lt;dbl&gt; |\n",
       "|---|---|\n",
       "| 0.05474991 | 0.2388094 |\n",
       "\n"
      ],
      "text/plain": [
       "  lower_ci   upper_ci \n",
       "1 0.05474991 0.2388094"
      ]
     },
     "metadata": {},
     "output_type": "display_data"
    }
   ],
   "source": [
    "ci_diff_gpa_means <- sat_gpa %>% \n",
    "  specify(gpa_fy ~ sex) %>%\n",
    "  generate(reps = 5000, type = \"bootstrap\") %>% \n",
    "  calculate(stat = \"diff in means\", order = c(\"Female\", \"Male\")) %>% \n",
    "  get_confidence_interval(level = 0.95)\n",
    "\n",
    "ci_diff_gpa_means"
   ]
  },
  {
   "cell_type": "markdown",
   "id": "7da4f60d-050b-4f35-96cd-7d687f2d7974",
   "metadata": {},
   "source": [
    "## Complete all the above tasks with a t-test\n",
    "\n",
    "Note that all the above steps can be done with one line of code **if a\n",
    "slew of assumptions** like normality and equal variance of the groups\n",
    "are met."
   ]
  },
  {
   "cell_type": "code",
   "execution_count": 115,
   "id": "6f5af819-f628-4a53-87c9-326120cebaba",
   "metadata": {
    "vscode": {
     "languageId": "r"
    }
   },
   "outputs": [
    {
     "data": {
      "text/plain": [
       "\n",
       "\tTwo Sample t-test\n",
       "\n",
       "data:  gpa_fy by sex\n",
       "t = 3.1828, df = 998, p-value = 0.001504\n",
       "alternative hypothesis: true difference in means between group Female and group Male is not equal to 0\n",
       "95 percent confidence interval:\n",
       " 0.05695029 0.24009148\n",
       "sample estimates:\n",
       "mean in group Female   mean in group Male \n",
       "            2.544587             2.396066 \n"
      ]
     },
     "metadata": {},
     "output_type": "display_data"
    }
   ],
   "source": [
    "t.test(gpa_fy ~ sex, var.equal = TRUE, data = sat_gpa)"
   ]
  },
  {
   "cell_type": "markdown",
   "id": "20f078ee-5e58-4dc5-9688-ea5182384428",
   "metadata": {},
   "source": [
    "## Question 2: Relationship between high-school GPA category and Total SAT score?\n",
    "\n",
    "For this analysis `sat_total` is the outcome variable, and `gpa_hs` is\n",
    "the predictor variable, with two levels “low” and “high”. For this\n",
    "question, let’s use a pre-determined $\\alpha$ significance-level of\n",
    "0.10, which is considered a more liberal significance-level than 0.05\n",
    "since p-values will have an easier time being less than $\\alpha$, and\n",
    "thus we are likely to reject the null hypothesis $H_0$ more often.\n",
    "\n",
    "## Exploratory data analysis\n",
    "\n",
    "We can first calculate the mean total SAT score for each group (i.e\n",
    "students with a low and high GPA), using the `group_by` and `summarize`\n",
    "commands from the `dplyr` package."
   ]
  },
  {
   "cell_type": "code",
   "execution_count": 116,
   "id": "cd06ff3f-e2e6-4971-81f7-a1175a915824",
   "metadata": {
    "vscode": {
     "languageId": "r"
    }
   },
   "outputs": [
    {
     "data": {
      "text/html": [
       "<table class=\"dataframe\">\n",
       "<caption>A tibble: 2 × 2</caption>\n",
       "<thead>\n",
       "\t<tr><th scope=col>gpa_hs</th><th scope=col>sat_total</th></tr>\n",
       "\t<tr><th scope=col>&lt;chr&gt;</th><th scope=col>&lt;dbl&gt;</th></tr>\n",
       "</thead>\n",
       "<tbody>\n",
       "\t<tr><td>high</td><td>108.67828</td></tr>\n",
       "\t<tr><td>low </td><td> 98.23047</td></tr>\n",
       "</tbody>\n",
       "</table>\n"
      ],
      "text/latex": [
       "A tibble: 2 × 2\n",
       "\\begin{tabular}{ll}\n",
       " gpa\\_hs & sat\\_total\\\\\n",
       " <chr> & <dbl>\\\\\n",
       "\\hline\n",
       "\t high & 108.67828\\\\\n",
       "\t low  &  98.23047\\\\\n",
       "\\end{tabular}\n"
      ],
      "text/markdown": [
       "\n",
       "A tibble: 2 × 2\n",
       "\n",
       "| gpa_hs &lt;chr&gt; | sat_total &lt;dbl&gt; |\n",
       "|---|---|\n",
       "| high | 108.67828 |\n",
       "| low  |  98.23047 |\n",
       "\n"
      ],
      "text/plain": [
       "  gpa_hs sat_total\n",
       "1 high   108.67828\n",
       "2 low     98.23047"
      ]
     },
     "metadata": {},
     "output_type": "display_data"
    }
   ],
   "source": [
    "avg_sat_gpa <- sat_gpa %>% \n",
    "  group_by(gpa_hs) %>% \n",
    "  summarize(sat_total = mean(sat_total))\n",
    "\n",
    "avg_sat_gpa"
   ]
  },
  {
   "cell_type": "markdown",
   "id": "baec68f4-a715-4644-bc40-5b2d4cde9af4",
   "metadata": {},
   "source": [
    "We will next generate a data visualization that displays the total SAT\n",
    "scores of the two groups. Be sure to include a title and label your\n",
    "axes."
   ]
  },
  {
   "cell_type": "code",
   "execution_count": 117,
   "id": "30dd8bf5-c386-43fe-8701-839686656ba2",
   "metadata": {
    "vscode": {
     "languageId": "r"
    }
   },
   "outputs": [
    {
     "data": {
      "image/png": "[encoded data removed]",
      "text/plain": [
       "plot without title"
      ]
     },
     "metadata": {
      "image/png": {
       "height": 420,
       "width": 420
      }
     },
     "output_type": "display_data"
    }
   ],
   "source": [
    "ggplot(sat_gpa, aes(x = gpa_hs, y = sat_total)) + \n",
    "    geom_point(fill = \"darkgreen\", position = position_jitter(height = 0, width = 0.2), alpha = 0.5, color = 'steelblue') + \n",
    "    stat_summary(geom = 'crossbar', fun = median, color = 'firebrick', size = 0.25, alpha = 0.6) +\n",
    "    labs(title = \"SAT scores based on high school GPA scores\", \n",
    "       x = \"GPA ranking\", y = \"SAT score\")"
   ]
  },
  {
   "cell_type": "markdown",
   "id": "4b358e47-3a60-4032-9b29-714180bfd326",
   "metadata": {},
   "source": [
    "## Stating a null hypothesis"
   ]
  },
  {
   "cell_type": "markdown",
   "id": "75b2984d-392a-4d14-8472-4c90cb0139c6",
   "metadata": {},
   "source": [
    "## Q2.a)\n",
    "\n",
    "State the null hypothesis that you are testing (using either words or\n",
    "symbols)\n",
    "\n",
    "**Answer:**\n",
    "\n",
    "1.  The different in mean of sat score is the zero for high school gpa range"
   ]
  },
  {
   "cell_type": "markdown",
   "id": "38f74068-b21f-4212-9047-be54b8f8bbc2",
   "metadata": {},
   "source": [
    "## Testing the hypothesis"
   ]
  },
  {
   "cell_type": "markdown",
   "id": "2c687c67-2f65-4a51-9fbd-d12016c343de",
   "metadata": {},
   "source": [
    "## Q2.b)\n",
    "\n",
    "Calculate the observed difference between the mean total SAT scores of\n",
    "the low and high GPA high-school students."
   ]
  },
  {
   "cell_type": "code",
   "execution_count": 118,
   "id": "872d1b6a-d65d-4c8c-9140-ebda69720131",
   "metadata": {
    "vscode": {
     "languageId": "r"
    }
   },
   "outputs": [
    {
     "data": {
      "text/html": [
       "<table class=\"dataframe\">\n",
       "<caption>A tibble: 1 × 1</caption>\n",
       "<thead>\n",
       "\t<tr><th scope=col>mean_diff</th></tr>\n",
       "\t<tr><th scope=col>&lt;dbl&gt;</th></tr>\n",
       "</thead>\n",
       "<tbody>\n",
       "\t<tr><td>-10.44781</td></tr>\n",
       "</tbody>\n",
       "</table>\n"
      ],
      "text/latex": [
       "A tibble: 1 × 1\n",
       "\\begin{tabular}{l}\n",
       " mean\\_diff\\\\\n",
       " <dbl>\\\\\n",
       "\\hline\n",
       "\t -10.44781\\\\\n",
       "\\end{tabular}\n"
      ],
      "text/markdown": [
       "\n",
       "A tibble: 1 × 1\n",
       "\n",
       "| mean_diff &lt;dbl&gt; |\n",
       "|---|\n",
       "| -10.44781 |\n",
       "\n"
      ],
      "text/plain": [
       "  mean_diff\n",
       "1 -10.44781"
      ]
     },
     "metadata": {},
     "output_type": "display_data"
    }
   ],
   "source": [
    "# you finish this code....\n",
    "\n",
    "obs_diff_sat_hs_gpa <- sat_gpa %>% group_by(gpa_hs)|>\n",
    "    summarise(mean_score = mean(sat_total)) |>\n",
    "    summarise(mean_diff = diff(mean_score))\n",
    "    obs_diff_sat_hs_gpa"
   ]
  },
  {
   "cell_type": "markdown",
   "id": "1254fef5-6b22-45a0-9f7e-f282f1dfb963",
   "metadata": {},
   "source": [
    "## Q2.c)\n",
    "\n",
    "Generate the null distribution of $\\delta$. Here you need to generate\n",
    "simulated values *as if* we lived in a world where there’s no difference\n",
    "in SAT scores between high school students with low and high GPAs."
   ]
  },
  {
   "cell_type": "code",
   "execution_count": 119,
   "id": "88bf24dd-4fa4-4e2e-b17f-3250aabe1e9d",
   "metadata": {
    "vscode": {
     "languageId": "r"
    }
   },
   "outputs": [],
   "source": [
    "# you finish this code....\n",
    "\n",
    "sat_in_null_world <- sat_gpa |>\n",
    "specify(sat_total ~ gpa_hs) %>%\n",
    "hypothesize(null = \"independence\") |>\n",
    "  generate(reps = 5000, type = 'permute')"
   ]
  },
  {
   "cell_type": "markdown",
   "id": "b6242ccf-c8f6-4c81-8b50-a9b97c90ecce",
   "metadata": {},
   "source": [
    "## Q2.d)\n",
    "\n",
    "Calculate the differences in mean SAT scores between students with low\n",
    "and high GPA scores under the Null. Note…you should use whatever order\n",
    "you chose above…i.e. `order = c(\"low\", \"high\")` or\n",
    "`order = c(\"high\", \"low\")`."
   ]
  },
  {
   "cell_type": "code",
   "execution_count": 120,
   "id": "30f2684e-b334-40c1-ac3e-efe078c80ccc",
   "metadata": {
    "vscode": {
     "languageId": "r"
    }
   },
   "outputs": [
    {
     "data": {
      "text/html": [
       "<table class=\"dataframe\">\n",
       "<caption>A infer: 6 × 2</caption>\n",
       "<thead>\n",
       "\t<tr><th scope=col>replicate</th><th scope=col>stat</th></tr>\n",
       "\t<tr><th scope=col>&lt;int&gt;</th><th scope=col>&lt;dbl&gt;</th></tr>\n",
       "</thead>\n",
       "<tbody>\n",
       "\t<tr><td>1</td><td>-0.6781826</td></tr>\n",
       "\t<tr><td>2</td><td>-0.5821273</td></tr>\n",
       "\t<tr><td>3</td><td> 0.1983222</td></tr>\n",
       "\t<tr><td>4</td><td> 0.1462923</td></tr>\n",
       "\t<tr><td>5</td><td> 0.7706519</td></tr>\n",
       "\t<tr><td>6</td><td> 0.8026703</td></tr>\n",
       "</tbody>\n",
       "</table>\n"
      ],
      "text/latex": [
       "A infer: 6 × 2\n",
       "\\begin{tabular}{ll}\n",
       " replicate & stat\\\\\n",
       " <int> & <dbl>\\\\\n",
       "\\hline\n",
       "\t 1 & -0.6781826\\\\\n",
       "\t 2 & -0.5821273\\\\\n",
       "\t 3 &  0.1983222\\\\\n",
       "\t 4 &  0.1462923\\\\\n",
       "\t 5 &  0.7706519\\\\\n",
       "\t 6 &  0.8026703\\\\\n",
       "\\end{tabular}\n"
      ],
      "text/markdown": [
       "\n",
       "A infer: 6 × 2\n",
       "\n",
       "| replicate &lt;int&gt; | stat &lt;dbl&gt; |\n",
       "|---|---|\n",
       "| 1 | -0.6781826 |\n",
       "| 2 | -0.5821273 |\n",
       "| 3 |  0.1983222 |\n",
       "| 4 |  0.1462923 |\n",
       "| 5 |  0.7706519 |\n",
       "| 6 |  0.8026703 |\n",
       "\n"
      ],
      "text/plain": [
       "  replicate stat      \n",
       "1 1         -0.6781826\n",
       "2 2         -0.5821273\n",
       "3 3          0.1983222\n",
       "4 4          0.1462923\n",
       "5 5          0.7706519\n",
       "6 6          0.8026703"
      ]
     },
     "metadata": {},
     "output_type": "display_data"
    },
    {
     "data": {
      "text/plain": [
       "   replicate         stat         \n",
       " Min.   :   1   Min.   :-3.19963  \n",
       " 1st Qu.:1251   1st Qu.:-0.61815  \n",
       " Median :2500   Median :-0.01180  \n",
       " Mean   :2500   Mean   :-0.01298  \n",
       " 3rd Qu.:3750   3rd Qu.: 0.59455  \n",
       " Max.   :5000   Max.   : 3.07998  "
      ]
     },
     "metadata": {},
     "output_type": "display_data"
    }
   ],
   "source": [
    "# you finish this code....\n",
    "sat_diff_under_null = sat_in_null_world |>\n",
    "  calculate(stat = \"diff in means\", order = c(\"low\", \"high\")) \n",
    "\n",
    "sat_diff_under_null |> \n",
    "  head()\n",
    "summary(sat_diff_under_null)\n",
    "#  <- "
   ]
  },
  {
   "cell_type": "markdown",
   "id": "b8b3d56f-73b0-4409-89d0-e51353e62232",
   "metadata": {},
   "source": [
    "## Q2.e)\n",
    "\n",
    "Visualize how the observed difference compares to the null distribution\n",
    "of $\\delta$. Generate a histogram of the null distribution, with a\n",
    "vertical red line showing the observed difference in SAT scores between\n",
    "high school students with a high and low GPA."
   ]
  },
  {
   "cell_type": "code",
   "execution_count": 121,
   "id": "872707c3-f9ea-4298-ab90-dca5b3392502",
   "metadata": {
    "vscode": {
     "languageId": "r"
    }
   },
   "outputs": [
    {
     "data": {
      "image/png": "[encoded data removed]",
      "text/plain": [
       "plot without title"
      ]
     },
     "metadata": {
      "image/png": {
       "height": 420,
       "width": 420
      }
     },
     "output_type": "display_data"
    }
   ],
   "source": [
    "# you finish this code....\n",
    "\n",
    "# sat_diff_under_null %>% \n",
    "visualize(sat_diff_under_null) +\n",
    "  shade_p_value(obs_stat = obs_diff_sat_hs_gpa, direction = \"both\") +\n",
    "  labs(x = \"Difference in mean SAT score for high and low GPA range\", y = \"Count\",\n",
    "       title = \"Null distribution of differences in high and low GPAs for mean SAT score\",\n",
    "       subtitle = \"Actual difference observed in the data is marked in red\"\n",
    "       )"
   ]
  },
  {
   "cell_type": "markdown",
   "id": "58038c3f-a9bd-451a-8696-2daac4b75808",
   "metadata": {},
   "source": [
    "## Q2.f)\n",
    "\n",
    "Calculate a p-value"
   ]
  },
  {
   "cell_type": "code",
   "execution_count": 122,
   "id": "89346c0d-bf97-4bea-bd41-0ed83ad5f107",
   "metadata": {
    "vscode": {
     "languageId": "r"
    }
   },
   "outputs": [
    {
     "name": "stderr",
     "output_type": "stream",
     "text": [
      "Warning message:\n",
      "\"\u001b[1m\u001b[22mPlease be cautious in reporting a p-value of 0. This result is an approximation\n",
      "based on the number of `reps` chosen in the `generate()` step.\n",
      "\u001b[36mℹ\u001b[39m See `get_p_value()` (`?infer::get_p_value()`) for more information.\"\n"
     ]
    },
    {
     "data": {
      "text/html": [
       "<table class=\"dataframe\">\n",
       "<caption>A tibble: 1 × 1</caption>\n",
       "<thead>\n",
       "\t<tr><th scope=col>p_value</th></tr>\n",
       "\t<tr><th scope=col>&lt;dbl&gt;</th></tr>\n",
       "</thead>\n",
       "<tbody>\n",
       "\t<tr><td>0</td></tr>\n",
       "</tbody>\n",
       "</table>\n"
      ],
      "text/latex": [
       "A tibble: 1 × 1\n",
       "\\begin{tabular}{l}\n",
       " p\\_value\\\\\n",
       " <dbl>\\\\\n",
       "\\hline\n",
       "\t 0\\\\\n",
       "\\end{tabular}\n"
      ],
      "text/markdown": [
       "\n",
       "A tibble: 1 × 1\n",
       "\n",
       "| p_value &lt;dbl&gt; |\n",
       "|---|\n",
       "| 0 |\n",
       "\n"
      ],
      "text/plain": [
       "  p_value\n",
       "1 0      "
      ]
     },
     "metadata": {},
     "output_type": "display_data"
    }
   ],
   "source": [
    "sat_diff_under_null %>% \n",
    "  get_pvalue(obs_stat = obs_diff_sat_hs_gpa, direction = \"both\") \n",
    "\n"
   ]
  },
  {
   "cell_type": "markdown",
   "id": "b3339778-498f-471d-ae8d-1cd67524f857",
   "metadata": {},
   "source": [
    "## Q2.g)\n",
    "\n",
    "Write up the results & conclusions for this hypothesis test. Note,\n",
    "p-values less than 0.001 are often reported as p \\< 0.001.\n",
    "\n",
    "**Answer:**\n",
    "\n",
    "1.  We have p value is approximately less than 0.001.  So we reject the null hypothesis that the different in mean between low and high GPA for mean SAT score are zero."
   ]
  },
  {
   "cell_type": "markdown",
   "id": "6128c93b-c595-46cf-9be3-c1b226058ebb",
   "metadata": {},
   "source": [
    "## Q2.h)\n",
    "\n",
    "Calculate a confidence interval for the difference in total SAT scores\n",
    "for students with high and low high-school GPA scores. Note…you should\n",
    "use whatever order you chose above…i.e. `order = c(\"low\", \"high\")` or\n",
    "`order = c(\"high\", \"low\")`."
   ]
  },
  {
   "cell_type": "code",
   "execution_count": 123,
   "id": "433e077c-e842-495c-8902-06dfb338b6dc",
   "metadata": {
    "vscode": {
     "languageId": "r"
    }
   },
   "outputs": [
    {
     "data": {
      "text/html": [
       "<table class=\"dataframe\">\n",
       "<caption>A tibble: 1 × 2</caption>\n",
       "<thead>\n",
       "\t<tr><th scope=col>lower_ci</th><th scope=col>upper_ci</th></tr>\n",
       "\t<tr><th scope=col>&lt;dbl&gt;</th><th scope=col>&lt;dbl&gt;</th></tr>\n",
       "</thead>\n",
       "<tbody>\n",
       "\t<tr><td>-12.0575</td><td>-8.808213</td></tr>\n",
       "</tbody>\n",
       "</table>\n"
      ],
      "text/latex": [
       "A tibble: 1 × 2\n",
       "\\begin{tabular}{ll}\n",
       " lower\\_ci & upper\\_ci\\\\\n",
       " <dbl> & <dbl>\\\\\n",
       "\\hline\n",
       "\t -12.0575 & -8.808213\\\\\n",
       "\\end{tabular}\n"
      ],
      "text/markdown": [
       "\n",
       "A tibble: 1 × 2\n",
       "\n",
       "| lower_ci &lt;dbl&gt; | upper_ci &lt;dbl&gt; |\n",
       "|---|---|\n",
       "| -12.0575 | -8.808213 |\n",
       "\n"
      ],
      "text/plain": [
       "  lower_ci upper_ci \n",
       "1 -12.0575 -8.808213"
      ]
     },
     "metadata": {},
     "output_type": "display_data"
    }
   ],
   "source": [
    "# you finish this code....\n",
    "\n",
    "# ci_diff_sat_means <- sat_gpa %>% \n",
    "ci_diff_sat_means <- sat_gpa %>% \n",
    "  specify(sat_total ~ gpa_hs) %>%\n",
    "  generate(reps = 5000, type = \"bootstrap\") %>% \n",
    "  calculate(stat = \"diff in means\", order = c(\"low\", \"high\")) %>% \n",
    "  get_confidence_interval(level = 0.95)\n",
    "ci_diff_sat_means"
   ]
  },
  {
   "cell_type": "markdown",
   "id": "aec65e59-6fb4-48e7-a6c3-7c725555a98f",
   "metadata": {},
   "source": [
    "## Q2.i)\n",
    "\n",
    "Use a t-test to test the null hypothesis that total SAT scores do not\n",
    "differ between students with high and low high school GPA scores at the\n",
    "population level."
   ]
  },
  {
   "cell_type": "code",
   "execution_count": 124,
   "id": "62a220c8-083d-4bc1-9163-516a88f41787",
   "metadata": {
    "vscode": {
     "languageId": "r"
    }
   },
   "outputs": [
    {
     "data": {
      "text/plain": [
       "\n",
       "\tTwo Sample t-test\n",
       "\n",
       "data:  sat_total by gpa_hs\n",
       "t = 12.413, df = 998, p-value < 2.2e-16\n",
       "alternative hypothesis: true difference in means between group high and group low is not equal to 0\n",
       "95 percent confidence interval:\n",
       "  8.79614 12.09948\n",
       "sample estimates:\n",
       "mean in group high  mean in group low \n",
       "         108.67828           98.23047 \n"
      ]
     },
     "metadata": {},
     "output_type": "display_data"
    }
   ],
   "source": [
    "t.test(sat_total ~ gpa_hs, var.equal = TRUE, data = sat_gpa)\n",
    "\n"
   ]
  }
 ],
 "metadata": {
  "kernelspec": {
   "display_name": "R",
   "language": "R",
   "name": "ir"
  },
  "language_info": {
   "codemirror_mode": "r",
   "file_extension": ".r",
   "mimetype": "text/x-r-source",
   "name": "R",
   "pygments_lexer": "r",
   "version": "4.5.1"
  }
 },
 "nbformat": 4,
 "nbformat_minor": 5
}
